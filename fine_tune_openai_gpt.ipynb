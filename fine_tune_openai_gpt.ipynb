{
 "cells": [
  {
   "cell_type": "code",
   "execution_count": 1,
   "id": "bb47f2d5-9c6c-4e5c-845a-3a683720ea89",
   "metadata": {},
   "outputs": [],
   "source": [
    "import pandas as pd\n",
    "import matplotlib.pyplot as plt\n",
    "\n",
    "import openai\n",
    "from sklearn.metrics import classification_report\n",
    "from sklearn.metrics import confusion_matrix\n",
    "\n",
    "import seaborn as sns\n",
    "import numpy as np\n",
    "from pretty_confusion_matrix import pp_matrix_from_data"
   ]
  },
  {
   "cell_type": "markdown",
   "id": "1cea0712-51eb-4bf9-85f7-238805b3f262",
   "metadata": {},
   "source": [
    "## Data setup"
   ]
  },
  {
   "cell_type": "markdown",
   "id": "9c14a0fc-664d-4bad-979f-0678c2649902",
   "metadata": {},
   "source": [
    "### Data export to jsonl"
   ]
  },
  {
   "cell_type": "code",
   "execution_count": 2,
   "id": "d5799811-b17b-4957-a098-2700178a7bb9",
   "metadata": {},
   "outputs": [],
   "source": [
    "EXPORT_FILE_NAME = \"export.jsonl\"\n",
    "\n",
    "MAP = {0.0: 'good', 1.0: 'bad'}\n",
    "\n",
    "def create_export():\n",
    "    reviews = pd.read_csv('../german_doctor_reviews_graded.csv', sep=';')\n",
    "\n",
    "    frame = (reviews\n",
    "             .assign(prompt=lambda df: df.comment + '###')\n",
    "             .assign(completion=lambda df: ' ' + df.label.replace(MAP))\n",
    "             .drop_duplicates()\n",
    "             )[['prompt', 'completion']]\n",
    "\n",
    "    frame.to_json(EXPORT_FILE_NAME, orient='records', lines=True)\n",
    "\n",
    "\n",
    "create_export()"
   ]
  },
  {
   "cell_type": "code",
   "execution_count": null,
   "id": "eab2dc42-3e22-4f7a-9a3f-a03a80e82408",
   "metadata": {},
   "outputs": [],
   "source": []
  },
  {
   "cell_type": "markdown",
   "id": "816316f4-87c3-4e85-ae3a-6a0f49aeb79b",
   "metadata": {},
   "source": [
    "### Openai data preparation and splitting"
   ]
  },
  {
   "cell_type": "code",
   "execution_count": 3,
   "id": "f4da76a7-f58a-4b9e-b44a-495b2b6291d2",
   "metadata": {},
   "outputs": [
    {
     "name": "stdout",
     "output_type": "stream",
     "text": [
      "Analyzing...\n",
      "\n",
      "- Your file contains 9994 prompt-completion pairs\n",
      "- Based on your data it seems like you're trying to fine-tune a model for classification\n",
      "- For classification, we recommend you try one of the faster and cheaper models, such as `ada`\n",
      "- For classification, you can estimate the expected model performance by keeping a held out dataset, which is not used for training\n",
      "- All prompts end with suffix `###`\n",
      "\n",
      "No remediations found.\n",
      "- [Recommended] Would you like to split into training and validation set? [Y/n]: Y\n",
      "\n",
      "\n",
      "Your data will be written to a new JSONL file. Proceed [Y/n]: Y\n",
      "\n",
      "Wrote modified files to `export_prepared_train (1).jsonl` and `export_prepared_valid (1).jsonl`\n",
      "Feel free to take a look!\n",
      "\n",
      "Now use that file when fine-tuning:\n",
      "> openai api fine_tunes.create -t \"export_prepared_train (1).jsonl\" -v \"export_prepared_valid (1).jsonl\" --compute_classification_metrics --classification_positive_class \" good\"\n",
      "\n",
      "After you’ve fine-tuned a model, remember that your prompt has to end with the indicator string `###` for the model to start generating completions, rather than continuing with the prompt. Make sure to include `stop=[\"d\"]` so that the generated texts ends at the expected place.\n",
      "Once your model starts training, it'll approximately take 4.04 hours to train a `curie` model, and less for `ada` and `babbage`. Queue will approximately take half an hour per job ahead of you.\n"
     ]
    }
   ],
   "source": [
    "!openai tools fine_tunes.prepare_data -f export.jsonl -q"
   ]
  },
  {
   "cell_type": "code",
   "execution_count": null,
   "id": "bb9ba45a-8a90-44a7-b09f-4f6bdf646bd5",
   "metadata": {},
   "outputs": [],
   "source": []
  },
  {
   "cell_type": "markdown",
   "id": "7c56df70-1632-4ed8-a4aa-a0fba65b5aea",
   "metadata": {},
   "source": [
    "## Fine tuning GPT3"
   ]
  },
  {
   "cell_type": "code",
   "execution_count": 6,
   "id": "5da992c7-c533-4ee3-87cf-74850d5edf12",
   "metadata": {},
   "outputs": [],
   "source": [
    "!export OPENAI_API_KEY="
   ]
  },
  {
   "cell_type": "code",
   "execution_count": 4,
   "id": "36e94e37-6c06-4a2f-a1b6-9968d72b2bfe",
   "metadata": {},
   "outputs": [
    {
     "name": "stdout",
     "output_type": "stream",
     "text": [
      "Found potentially duplicated files with name 'export_prepared_train.jsonl', purpose 'fine-tune' and size 3771000 bytes\n",
      "file-Js1NSuxTtaPjTYsRn2HoU0GP\n",
      "Enter file ID to reuse an already uploaded file, or an empty string to upload this file anyway: ^C\n",
      "\n"
     ]
    }
   ],
   "source": [
    "! openai api fine_tunes.create \\\n",
    "-t \"export_prepared_train.jsonl\" \\\n",
    "-v \"export_prepared_valid.jsonl\" \\\n",
    "--compute_classification_metrics \\\n",
    "--classification_positive_class \" good\" \\\n",
    "--model ada"
   ]
  },
  {
   "cell_type": "code",
   "execution_count": 5,
   "id": "d22bcc97-f946-48c9-9496-930150532908",
   "metadata": {},
   "outputs": [
    {
     "name": "stdout",
     "output_type": "stream",
     "text": [
      "[2022-10-05 08:43:49] Created fine-tune: ft-0CRziZIUHiFAFgiwgBzzc9UK\n",
      "[2022-10-05 08:44:00] Fine-tune costs $2.14\n",
      "[2022-10-05 08:44:00] Fine-tune enqueued. Queue number: 0\n",
      "[2022-10-05 08:44:01] Fine-tune started\n",
      "[2022-10-05 08:48:31] Completed epoch 1/4\n",
      "[2022-10-05 08:53:13] Completed epoch 2/4\n",
      "[2022-10-05 08:57:48] Completed epoch 3/4\n",
      "[2022-10-05 09:02:23] Completed epoch 4/4\n",
      "[2022-10-05 09:03:11] Uploaded model: ada:ft-personal-2022-10-05-07-03-11\n",
      "[2022-10-05 09:03:12] Uploaded result file: file-Q5HvtQlyEOOUKTt9ZGDXATS4\n",
      "[2022-10-05 09:03:12] Fine-tune succeeded\n",
      "\n",
      "Job complete! Status: succeeded 🎉\n",
      "Try out your fine-tuned model:\n",
      "\n",
      "openai api completions.create -m ada:ft-personal-2022-10-05-07-03-11 -p <YOUR_PROMPT>\n"
     ]
    }
   ],
   "source": [
    "! openai api fine_tunes.follow -i ft-0CRziZIUHiFAFgiwgBzzc9UK"
   ]
  },
  {
   "cell_type": "code",
   "execution_count": null,
   "id": "182a326b-c328-409e-8d20-56d23d9fa6ef",
   "metadata": {},
   "outputs": [],
   "source": []
  },
  {
   "cell_type": "markdown",
   "id": "12e954c4-ac78-4606-99e3-8471d08b275a",
   "metadata": {},
   "source": [
    "## Model inference"
   ]
  },
  {
   "cell_type": "code",
   "execution_count": 6,
   "id": "71169599-43b6-40eb-85af-d787d5f583db",
   "metadata": {},
   "outputs": [
    {
     "name": "stdout",
     "output_type": "stream",
     "text": [
      "Auch sie war total begeistert### good"
     ]
    }
   ],
   "source": [
    "!openai api completions.create \\\n",
    "-m ada:ft-personal-2022-10-05-07-03-11 -M 1 \\\n",
    "-p \"Auch sie war total begeistert###\""
   ]
  },
  {
   "cell_type": "code",
   "execution_count": null,
   "id": "a39f8e8d-83b2-4b44-9c3c-72d82025c19c",
   "metadata": {},
   "outputs": [],
   "source": []
  },
  {
   "cell_type": "markdown",
   "id": "b42ed8f7-b1a0-4269-bd9e-2a0fbe27a692",
   "metadata": {},
   "source": [
    "## Model evaluation"
   ]
  },
  {
   "cell_type": "code",
   "execution_count": 7,
   "id": "75a8c1bd-f65d-4c0c-946a-05eae9efce4b",
   "metadata": {},
   "outputs": [],
   "source": [
    "!openai api fine_tunes.results -i ft-0CRziZIUHiFAFgiwgBzzc9UK > result.csv "
   ]
  },
  {
   "cell_type": "code",
   "execution_count": 8,
   "id": "39ce074b-9f2b-4393-a85d-2494e26949fe",
   "metadata": {},
   "outputs": [
    {
     "data": {
      "text/html": [
       "<div>\n",
       "<style scoped>\n",
       "    .dataframe tbody tr th:only-of-type {\n",
       "        vertical-align: middle;\n",
       "    }\n",
       "\n",
       "    .dataframe tbody tr th {\n",
       "        vertical-align: top;\n",
       "    }\n",
       "\n",
       "    .dataframe thead th {\n",
       "        text-align: right;\n",
       "    }\n",
       "</style>\n",
       "<table border=\"1\" class=\"dataframe\">\n",
       "  <thead>\n",
       "    <tr style=\"text-align: right;\">\n",
       "      <th></th>\n",
       "      <th>step</th>\n",
       "      <th>elapsed_tokens</th>\n",
       "      <th>elapsed_examples</th>\n",
       "      <th>training_loss</th>\n",
       "      <th>training_sequence_accuracy</th>\n",
       "      <th>training_token_accuracy</th>\n",
       "      <th>validation_loss</th>\n",
       "      <th>validation_sequence_accuracy</th>\n",
       "      <th>validation_token_accuracy</th>\n",
       "      <th>classification/accuracy</th>\n",
       "      <th>classification/precision</th>\n",
       "      <th>classification/recall</th>\n",
       "      <th>classification/auroc</th>\n",
       "      <th>classification/auprc</th>\n",
       "      <th>classification/f1.0</th>\n",
       "    </tr>\n",
       "  </thead>\n",
       "  <tbody>\n",
       "    <tr>\n",
       "      <th>2249</th>\n",
       "      <td>2250</td>\n",
       "      <td>17329184</td>\n",
       "      <td>36000</td>\n",
       "      <td>0.008239</td>\n",
       "      <td>0.875</td>\n",
       "      <td>0.875</td>\n",
       "      <td>NaN</td>\n",
       "      <td>NaN</td>\n",
       "      <td>NaN</td>\n",
       "      <td>0.976</td>\n",
       "      <td>0.987356</td>\n",
       "      <td>0.985092</td>\n",
       "      <td>0.992725</td>\n",
       "      <td>0.998798</td>\n",
       "      <td>0.986223</td>\n",
       "    </tr>\n",
       "  </tbody>\n",
       "</table>\n",
       "</div>"
      ],
      "text/plain": [
       "      step  elapsed_tokens  elapsed_examples  training_loss  \\\n",
       "2249  2250        17329184             36000       0.008239   \n",
       "\n",
       "      training_sequence_accuracy  training_token_accuracy  validation_loss  \\\n",
       "2249                       0.875                    0.875              NaN   \n",
       "\n",
       "      validation_sequence_accuracy  validation_token_accuracy  \\\n",
       "2249                           NaN                        NaN   \n",
       "\n",
       "      classification/accuracy  classification/precision  \\\n",
       "2249                    0.976                  0.987356   \n",
       "\n",
       "      classification/recall  classification/auroc  classification/auprc  \\\n",
       "2249               0.985092              0.992725              0.998798   \n",
       "\n",
       "      classification/f1.0  \n",
       "2249             0.986223  "
      ]
     },
     "execution_count": 8,
     "metadata": {},
     "output_type": "execute_result"
    }
   ],
   "source": [
    "results = pd.read_csv('result.csv')\n",
    "results[results['classification/accuracy'].notnull()].tail(1)"
   ]
  },
  {
   "cell_type": "code",
   "execution_count": 10,
   "id": "c1b99f56-b448-4dcc-a640-f07dfa6c6da6",
   "metadata": {},
   "outputs": [
    {
     "data": {
      "text/plain": [
       "Text(0, 0.5, 'classification/accuracy')"
      ]
     },
     "execution_count": 10,
     "metadata": {},
     "output_type": "execute_result"
    },
    {
     "data": {
      "image/png": "[encoded data removed]",
      "text/plain": [
       "<Figure size 640x480 with 1 Axes>"
      ]
     },
     "metadata": {},
     "output_type": "display_data"
    }
   ],
   "source": [
    "results[results['classification/accuracy'].notnull()]['classification/accuracy'].plot()\n",
    "plt.xlabel('epoch')\n",
    "plt.ylabel('classification/accuracy')"
   ]
  },
  {
   "cell_type": "code",
   "execution_count": null,
   "id": "396abec5-99e5-440e-99d4-bb6852cf8332",
   "metadata": {},
   "outputs": [],
   "source": []
  },
  {
   "cell_type": "code",
   "execution_count": 11,
   "id": "8eeca46f-1558-40a0-911c-67873523d8ce",
   "metadata": {},
   "outputs": [],
   "source": [
    "api_key = open('.env').readline().split('=')[-1]\n",
    "openai.api_key = api_key"
   ]
  },
  {
   "cell_type": "code",
   "execution_count": 12,
   "id": "a11a29d2-a23d-4db0-b5a2-db468c3ead3c",
   "metadata": {},
   "outputs": [],
   "source": [
    "FINE_TUNED_MODEL = 'ada:ft-personal-2022-10-05-07-03-11'"
   ]
  },
  {
   "cell_type": "code",
   "execution_count": 13,
   "id": "79b177eb-6298-4064-a33f-242539e7d04a",
   "metadata": {},
   "outputs": [],
   "source": [
    "PROMPT = \"\"\"\n",
    "Frau Dr. Vetter kenne ich seit vielen Jahren, sie hat mir bei vielen Problemen sehr kompetent und sehr <br />\n",
    "umsichtig geholfen. Sie hat mich immer aufgerichtet, wenn es mir schlecht ging.Und sie hat auch viel Ahnung von anderen Fachgebieten. Ich bin sehr zufrieden und kann sie nur wärmstens empfehlen.<br />\n",
    "Gestern war ich mit meiner Tochter bei ihr . Auch sie war total begeistert.\n",
    "\"\"\""
   ]
  },
  {
   "cell_type": "code",
   "execution_count": 14,
   "id": "6e54045b-9faf-4a55-b1f4-74dc76ee6256",
   "metadata": {},
   "outputs": [],
   "source": [
    "def invoke_model(*prompts):\n",
    "    prompts = [prompt + '###' for prompt in prompts]\n",
    "    \n",
    "    response = openai.Completion.create(\n",
    "        model=FINE_TUNED_MODEL,\n",
    "        prompt=prompts,\n",
    "        max_tokens=1,\n",
    "        temperature=0)\n",
    "    return [choice['text'] for choice in response['choices']]"
   ]
  },
  {
   "cell_type": "code",
   "execution_count": 15,
   "id": "1f76e5f5-2aba-4338-9fb1-5440970803c6",
   "metadata": {},
   "outputs": [
    {
     "data": {
      "text/plain": [
       "[' good']"
      ]
     },
     "execution_count": 15,
     "metadata": {},
     "output_type": "execute_result"
    }
   ],
   "source": [
    "invoke_model(PROMPT)"
   ]
  },
  {
   "cell_type": "code",
   "execution_count": null,
   "id": "94d26aeb-fc5b-4b5e-864c-175418aa6842",
   "metadata": {},
   "outputs": [],
   "source": []
  },
  {
   "cell_type": "markdown",
   "id": "592e296d-8dd7-4fdc-9766-e48457d5042e",
   "metadata": {},
   "source": [
    "### Validationset"
   ]
  },
  {
   "cell_type": "code",
   "execution_count": 16,
   "id": "ff58a703-72cb-438a-8e17-92bb8bcad0a4",
   "metadata": {},
   "outputs": [
    {
     "data": {
      "text/html": [
       "<div>\n",
       "<style scoped>\n",
       "    .dataframe tbody tr th:only-of-type {\n",
       "        vertical-align: middle;\n",
       "    }\n",
       "\n",
       "    .dataframe tbody tr th {\n",
       "        vertical-align: top;\n",
       "    }\n",
       "\n",
       "    .dataframe thead th {\n",
       "        text-align: right;\n",
       "    }\n",
       "</style>\n",
       "<table border=\"1\" class=\"dataframe\">\n",
       "  <thead>\n",
       "    <tr style=\"text-align: right;\">\n",
       "      <th></th>\n",
       "      <th>prompt</th>\n",
       "      <th>completion</th>\n",
       "    </tr>\n",
       "  </thead>\n",
       "  <tbody>\n",
       "    <tr>\n",
       "      <th>0</th>\n",
       "      <td>Frau Dr. Vetter kenne ich seit vielen Jahren, ...</td>\n",
       "      <td>good</td>\n",
       "    </tr>\n",
       "    <tr>\n",
       "      <th>1</th>\n",
       "      <td>Dieser Mann weiss was er tut.###</td>\n",
       "      <td>good</td>\n",
       "    </tr>\n",
       "    <tr>\n",
       "      <th>2</th>\n",
       "      <td>Man ist mit seinen zahnen sehr gut aufgehoben.###</td>\n",
       "      <td>good</td>\n",
       "    </tr>\n",
       "    <tr>\n",
       "      <th>3</th>\n",
       "      <td>Ausgesprochen gewissenhafter und kompetenter Z...</td>\n",
       "      <td>good</td>\n",
       "    </tr>\n",
       "    <tr>\n",
       "      <th>4</th>\n",
       "      <td>Ich bin jetzt seit bestimmt 5 Jahren Patient. ...</td>\n",
       "      <td>good</td>\n",
       "    </tr>\n",
       "    <tr>\n",
       "      <th>...</th>\n",
       "      <td>...</td>\n",
       "      <td>...</td>\n",
       "    </tr>\n",
       "    <tr>\n",
       "      <th>995</th>\n",
       "      <td>Ich bin schon seit mehreren Jahren bei Frau Dr...</td>\n",
       "      <td>good</td>\n",
       "    </tr>\n",
       "    <tr>\n",
       "      <th>996</th>\n",
       "      <td>Die Wartezeiten mögen ja recht lange sein (kan...</td>\n",
       "      <td>good</td>\n",
       "    </tr>\n",
       "    <tr>\n",
       "      <th>997</th>\n",
       "      <td>Dr. Schüßeler ist einer der unfreundlichsten Ä...</td>\n",
       "      <td>bad</td>\n",
       "    </tr>\n",
       "    <tr>\n",
       "      <th>998</th>\n",
       "      <td>Bei Herrn Soulis gefällt mir am besten, dass e...</td>\n",
       "      <td>good</td>\n",
       "    </tr>\n",
       "    <tr>\n",
       "      <th>999</th>\n",
       "      <td>es wurden verschiedene probleme nacheinander b...</td>\n",
       "      <td>good</td>\n",
       "    </tr>\n",
       "  </tbody>\n",
       "</table>\n",
       "<p>1000 rows × 2 columns</p>\n",
       "</div>"
      ],
      "text/plain": [
       "                                                prompt completion\n",
       "0    Frau Dr. Vetter kenne ich seit vielen Jahren, ...       good\n",
       "1                     Dieser Mann weiss was er tut.###       good\n",
       "2    Man ist mit seinen zahnen sehr gut aufgehoben.###       good\n",
       "3    Ausgesprochen gewissenhafter und kompetenter Z...       good\n",
       "4    Ich bin jetzt seit bestimmt 5 Jahren Patient. ...       good\n",
       "..                                                 ...        ...\n",
       "995  Ich bin schon seit mehreren Jahren bei Frau Dr...       good\n",
       "996  Die Wartezeiten mögen ja recht lange sein (kan...       good\n",
       "997  Dr. Schüßeler ist einer der unfreundlichsten Ä...        bad\n",
       "998  Bei Herrn Soulis gefällt mir am besten, dass e...       good\n",
       "999  es wurden verschiedene probleme nacheinander b...       good\n",
       "\n",
       "[1000 rows x 2 columns]"
      ]
     },
     "execution_count": 16,
     "metadata": {},
     "output_type": "execute_result"
    }
   ],
   "source": [
    "validation_frame = pd.read_json('export_prepared_valid.jsonl', lines=True)\n",
    "#validation_frame =  validation_frame.sample(100, random_state=123456)\n",
    "validation_frame"
   ]
  },
  {
   "cell_type": "code",
   "execution_count": 17,
   "id": "25a551fc-93d1-4ca4-9bed-c5d55a8b1cb4",
   "metadata": {},
   "outputs": [],
   "source": [
    "prompts = validation_frame.prompt.to_list()\n",
    "y_true = validation_frame.completion.to_list()"
   ]
  },
  {
   "cell_type": "code",
   "execution_count": 20,
   "id": "24c9e692-1bdb-4a17-8d00-42f6d350d940",
   "metadata": {},
   "outputs": [],
   "source": [
    "results = invoke_model(*prompts)"
   ]
  },
  {
   "cell_type": "code",
   "execution_count": 21,
   "id": "9eae4ab4-d769-444d-94c1-ce51530e69d4",
   "metadata": {},
   "outputs": [],
   "source": [
    "y_pred = [res if res in [' good', ' bad'] else ' bad' for res in results]"
   ]
  },
  {
   "cell_type": "code",
   "execution_count": null,
   "id": "d07d7002-545d-4a52-a290-9ff85e673524",
   "metadata": {},
   "outputs": [],
   "source": []
  },
  {
   "cell_type": "code",
   "execution_count": 22,
   "id": "c9536e24-4271-4499-bcfd-d538637448cb",
   "metadata": {},
   "outputs": [
    {
     "data": {
      "text/html": [
       "<div>\n",
       "<style scoped>\n",
       "    .dataframe tbody tr th:only-of-type {\n",
       "        vertical-align: middle;\n",
       "    }\n",
       "\n",
       "    .dataframe tbody tr th {\n",
       "        vertical-align: top;\n",
       "    }\n",
       "\n",
       "    .dataframe thead th {\n",
       "        text-align: right;\n",
       "    }\n",
       "</style>\n",
       "<table border=\"1\" class=\"dataframe\">\n",
       "  <thead>\n",
       "    <tr style=\"text-align: right;\">\n",
       "      <th></th>\n",
       "      <th>precision</th>\n",
       "      <th>recall</th>\n",
       "      <th>f1-score</th>\n",
       "      <th>support</th>\n",
       "    </tr>\n",
       "  </thead>\n",
       "  <tbody>\n",
       "    <tr>\n",
       "      <th>bad</th>\n",
       "      <td>0.89</td>\n",
       "      <td>0.91</td>\n",
       "      <td>0.90</td>\n",
       "      <td>128.00</td>\n",
       "    </tr>\n",
       "    <tr>\n",
       "      <th>good</th>\n",
       "      <td>0.99</td>\n",
       "      <td>0.98</td>\n",
       "      <td>0.99</td>\n",
       "      <td>872.00</td>\n",
       "    </tr>\n",
       "    <tr>\n",
       "      <th>accuracy</th>\n",
       "      <td>0.97</td>\n",
       "      <td>0.97</td>\n",
       "      <td>0.97</td>\n",
       "      <td>0.97</td>\n",
       "    </tr>\n",
       "    <tr>\n",
       "      <th>macro avg</th>\n",
       "      <td>0.94</td>\n",
       "      <td>0.95</td>\n",
       "      <td>0.94</td>\n",
       "      <td>1000.00</td>\n",
       "    </tr>\n",
       "    <tr>\n",
       "      <th>weighted avg</th>\n",
       "      <td>0.98</td>\n",
       "      <td>0.97</td>\n",
       "      <td>0.98</td>\n",
       "      <td>1000.00</td>\n",
       "    </tr>\n",
       "  </tbody>\n",
       "</table>\n",
       "</div>"
      ],
      "text/plain": [
       "             precision recall f1-score  support\n",
       " bad              0.89   0.91     0.90   128.00\n",
       " good             0.99   0.98     0.99   872.00\n",
       "accuracy          0.97   0.97     0.97     0.97\n",
       "macro avg         0.94   0.95     0.94  1000.00\n",
       "weighted avg      0.98   0.97     0.98  1000.00"
      ]
     },
     "execution_count": 22,
     "metadata": {},
     "output_type": "execute_result"
    }
   ],
   "source": [
    "pd.DataFrame(classification_report(y_true, y_pred, output_dict=True)).T.applymap(\"{0:.2f}\".format)"
   ]
  },
  {
   "cell_type": "code",
   "execution_count": null,
   "id": "c1671435-a8bf-49be-91b6-581c61abccd1",
   "metadata": {},
   "outputs": [],
   "source": []
  },
  {
   "cell_type": "code",
   "execution_count": 23,
   "id": "cebc9d02-1f37-4b76-9531-30e7449ad708",
   "metadata": {},
   "outputs": [],
   "source": [
    "cf_matrix = confusion_matrix(y_true, y_pred)"
   ]
  },
  {
   "cell_type": "code",
   "execution_count": 24,
   "id": "3ed6e6b6-e48d-42bd-afbd-8e49027f7a9c",
   "metadata": {},
   "outputs": [
    {
     "data": {
      "image/png": "[encoded data removed]",
      "text/plain": [
       "<Figure size 900x900 with 1 Axes>"
      ]
     },
     "metadata": {},
     "output_type": "display_data"
    }
   ],
   "source": [
    "pp_matrix_from_data(y_true, y_pred, columns=['bad', 'good'], cmap = 'gist_earth')"
   ]
  },
  {
   "cell_type": "code",
   "execution_count": null,
   "id": "79c717ba-2e06-4867-a567-eeac99796a5c",
   "metadata": {},
   "outputs": [],
   "source": []
  }
 ],
 "metadata": {
  "kernelspec": {
   "display_name": "Python 3 (ipykernel)",
   "language": "python",
   "name": "python3"
  },
  "language_info": {
   "codemirror_mode": {
    "name": "ipython",
    "version": 3
   },
   "file_extension": ".py",
   "mimetype": "text/x-python",
   "name": "python",
   "nbconvert_exporter": "python",
   "pygments_lexer": "ipython3",
   "version": "3.8.12"
  }
 },
 "nbformat": 4,
 "nbformat_minor": 5
}
